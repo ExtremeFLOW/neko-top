{
 "cells": [
  {
   "cell_type": "markdown",
   "metadata": {},
   "source": [
    "# Leakage of flow in Immersed Boundary Methods\n",
    "\n",
    "This notebook will be used to develop the functions required to calculate the\n",
    "leakage of flow in Immersed Boundary Methods. The leakage is defined as the flow\n",
    "that goes through the immersed boundary and is not accounted for in the\n",
    "simulation. This is a common problem in Immersed Boundary Methods, and it is\n",
    "important to quantify it in order to understand the accuracy of the simulation.\n",
    "\n",
    "The leakage is calculated as the average flow velocity through the immersed\n",
    "boundary. This is done by probing the flow velocity at in the immersed region\n",
    "and calculating the average velocity."
   ]
  },
  {
   "cell_type": "code",
   "execution_count": null,
   "metadata": {},
   "outputs": [],
   "source": [
    "# Define the test examples and flags\n",
    "\n",
    "if __name__ != \"__main__\":\n",
    "    exit()\n",
    "\n",
    "debug = True\n",
    "root_dir = \"../../\"\n",
    "data_location = root_dir + \"results/hpc/cylinder_benchmark/explicit_800/\"\n",
    "data_file = data_location + \"leakage.csv\"\n"
   ]
  },
  {
   "cell_type": "code",
   "execution_count": null,
   "metadata": {},
   "outputs": [],
   "source": [
    "# Setup imports\n",
    "\n",
    "if __name__ != \"__main__\":\n",
    "    exit()\n",
    "\n",
    "import sys\n",
    "import os\n",
    "\n",
    "try:\n",
    "    from nekotop import Probes\n",
    "except:\n",
    "    sys.path.append(os.path.abspath(root_dir + 'scripts/modules/'))\n",
    "    from nekotop import Probes\n"
   ]
  },
  {
   "cell_type": "code",
   "execution_count": null,
   "metadata": {},
   "outputs": [],
   "source": [
    "if __name__ != \"__main__\":\n",
    "    exit()\n",
    "\n",
    "import matplotlib.pyplot as plt\n",
    "import numpy as np\n",
    "\n",
    "if \"probes\" not in locals() or debug:\n",
    "    probes = Probes(data_file)\n",
    "\n",
    "# Plot the probed data\n",
    "fig, ax = plt.subplots(1, 1, figsize=(10, 5))\n",
    "\n",
    "# Compute the mean velocity for each timestep\n",
    "u = probes.fields[\"u\"]\n",
    "v = probes.fields[\"v\"]\n",
    "\n",
    "velocities = np.mean(np.sqrt(u**2 + v**2), axis=0)\n",
    "print(\"Max velocity: \", np.max(velocities))\n",
    "print(\"Min velocity: \", np.min(velocities))\n",
    "\n",
    "ax.plot(probes.times, np.mean(u, axis=0), label=\"u\")\n",
    "\n",
    "ax.set_xlabel(\"Time\")\n",
    "ax.set_ylabel(\"Velocity\")\n",
    "\n",
    "plt.show()\n"
   ]
  }
 ],
 "metadata": {
  "kernelspec": {
   "display_name": ".venv",
   "language": "python",
   "name": "python3"
  },
  "language_info": {
   "codemirror_mode": {
    "name": "ipython",
    "version": 3
   },
   "file_extension": ".py",
   "mimetype": "text/x-python",
   "name": "python",
   "nbconvert_exporter": "python",
   "pygments_lexer": "ipython3",
   "version": "3.10.12"
  }
 },
 "nbformat": 4,
 "nbformat_minor": 2
}
