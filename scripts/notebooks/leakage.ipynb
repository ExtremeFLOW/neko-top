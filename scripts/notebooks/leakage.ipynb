{
 "cells": [
  {
   "cell_type": "markdown",
   "metadata": {},
   "source": [
    "# Leakage of flow in Immersed Boundary Methods\n",
    "\n",
    "This notebook will be used to develop the functions required to calculate the\n",
    "leakage of flow in Immersed Boundary Methods. The leakage is defined as the flow\n",
    "that goes through the immersed boundary and is not accounted for in the\n",
    "simulation. This is a common problem in Immersed Boundary Methods, and it is\n",
    "important to quantify it in order to understand the accuracy of the simulation.\n",
    "\n",
    "The leakage is calculated as the average flow velocity through the immersed\n",
    "boundary. This is done by probing the flow velocity at in the immersed region\n",
    "and calculating the average velocity."
   ]
  },
  {
   "cell_type": "code",
   "execution_count": null,
   "metadata": {},
   "outputs": [],
   "source": [
    "# Define the test examples and flags\n",
    "\n",
    "if __name__ != \"__main__\":\n",
    "    exit()\n",
    "\n",
    "debug = True\n",
    "root_dir = \"../../\"\n",
    "data_location = root_dir + \"results/hpc/cylinder_benchmark/explicit_800/\"\n",
    "data_file = data_location + \"leakage.csv\"\n"
   ]
  },
  {
   "cell_type": "code",
   "execution_count": null,
   "metadata": {},
   "outputs": [],
   "source": [
    "# Setup imports\n",
    "\n",
    "if __name__ != \"__main__\":\n",
    "    exit()\n",
    "\n",
    "import sys\n",
    "import os\n",
    "\n",
    "try:\n",
    "    from nekotop import Probes\n",
    "except:\n",
    "    sys.path.append(os.path.abspath(root_dir + 'scripts/modules/'))\n",
    "    from nekotop import Probes\n"
   ]
  },
  {
   "cell_type": "code",
   "execution_count": null,
   "metadata": {},
   "outputs": [],
   "source": [
    "if __name__ != \"__main__\":\n",
    "    exit()\n",
    "\n",
    "import matplotlib.pyplot as plt\n",
    "import numpy as np\n",
    "\n",
    "if \"probes\" not in locals() or debug:\n",
    "    probes = Probes(data_file)\n",
    "\n",
    "# Compute the mean velocity for each timestep\n",
    "u = probes.fields[\"u\"]\n",
    "v = probes.fields[\"v\"]\n",
    "\n",
    "if \"velocity\" not in locals() or debug:\n",
    "    velocities = np.sqrt(u**2 + v**2)"
   ]
  },
  {
   "cell_type": "markdown",
   "metadata": {},
   "source": [
    "## Computing average across the cylinder\n",
    "\n",
    "Points are located in a cylinder, however we should compress it down to a disk,\n",
    "averaging across the z coordinate of the cylinder. However, the velocity array\n",
    "is currently stored as N_points x N_timesteps, so we need to detect points that\n",
    "are in the same z plane and average them.\n"
   ]
  },
  {
   "cell_type": "code",
   "execution_count": null,
   "metadata": {},
   "outputs": [],
   "source": [
    "# The points are ordered in the following way:\n",
    "points_2d = np.asarray((probes.points[:, 0], probes.points[:, 1])).T\n",
    "_, index = np.unique(points_2d, return_index=True, axis=0)\n",
    "\n",
    "# Now we can average the velocities\n",
    "points = probes.points\n",
    "points_2d = points[index, :2]\n",
    "velocities_2d = np.zeros((len(index), len(probes.times)))\n",
    "\n",
    "for i in range(len(index)):\n",
    "    p2 = points_2d[i]\n",
    "    n = 0\n",
    "    for j in range(len(points)):\n",
    "        p3 = points[j]\n",
    "        if p2[0] == p3[0] and p2[1] == p3[1]:\n",
    "            velocities_2d[i, :] += velocities[j, :]\n",
    "            n += 1\n",
    "\n",
    "    velocities_2d[i, :] /= n"
   ]
  },
  {
   "cell_type": "code",
   "execution_count": null,
   "metadata": {},
   "outputs": [],
   "source": [
    "if __name__ != \"__main__\":\n",
    "    exit()\n",
    "\n",
    "import manim\n",
    "\n",
    "manim.config.media_dir = \"manim\"\n",
    "manim.config.verbosity = \"WARNING\"\n",
    "manim.config.progress_bar = \"none\"\n",
    "manim.config.disable_caching = debug\n"
   ]
  },
  {
   "cell_type": "code",
   "execution_count": null,
   "metadata": {},
   "outputs": [],
   "source": [
    "# Define a manim scene for the disk of points and velocities\n",
    "\n",
    "if __name__ != \"__main__\":\n",
    "    exit()\n",
    "\n",
    "# Set the resolution and field of view\n",
    "manim.config.pixel_height = 400\n",
    "manim.config.pixel_width = 400\n",
    "manim.config.frame_width = 1.1\n",
    "manim.config.frame_height = 1.1\n",
    "\n",
    "class Example(manim.Scene):\n",
    "\n",
    "    def construct(self):\n",
    "        dots = manim.VGroup()\n",
    "        for ip in range(0, len(points)):\n",
    "            point = points[ip, :]\n",
    "            c = velocities[ip, 2000] / 1e-3\n",
    "            color = np.asarray([1.0, 1.0 - c, 1.0 - c, 1.0])\n",
    "            dots += manim.Dot(point=point, color=color, radius=0.01)\n",
    "\n",
    "        self.add(dots)\n",
    "\n",
    "%manim Example"
   ]
  },
  {
   "cell_type": "code",
   "execution_count": null,
   "metadata": {},
   "outputs": [],
   "source": [
    "%manim Example"
   ]
  },
  {
   "cell_type": "code",
   "execution_count": null,
   "metadata": {},
   "outputs": [],
   "source": [
    "# Plot the probed data\n",
    "fig, ax = plt.subplots(1, 1, figsize=(10, 5))\n",
    "print(\"Max velocity: \", np.max(velocities_2d))\n",
    "print(\"Min velocity: \", np.min(velocities_2d))\n",
    "\n",
    "# Animate the velocity as color for each probe point\n",
    "\n",
    "# Plot the velocity\n",
    "\n",
    "ax.plot(probes.times, np.mean(u, axis=0), label=\"u\")\n",
    "\n",
    "ax.set_xlabel(\"Time\")\n",
    "ax.set_ylabel(\"Velocity\")\n",
    "\n",
    "plt.show()\n"
   ]
  }
 ],
 "metadata": {
  "kernelspec": {
   "display_name": ".venv",
   "language": "python",
   "name": "python3"
  },
  "language_info": {
   "codemirror_mode": {
    "name": "ipython",
    "version": 3
   },
   "file_extension": ".py",
   "mimetype": "text/x-python",
   "name": "python",
   "nbconvert_exporter": "python",
   "pygments_lexer": "ipython3",
   "version": "3.10.12"
  }
 },
 "nbformat": 4,
 "nbformat_minor": 2
}
