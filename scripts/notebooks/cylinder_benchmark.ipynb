{
 "cells": [
  {
   "cell_type": "markdown",
   "metadata": {
    "slideshow": {
     "slide_type": "slide"
    }
   },
   "source": [
    "# Immersed Cylinder benchmarking\n",
    "\n",
    "This notebook will contain all the required scripts and commands to produce the\n",
    "benchmarking for the immersed cylinder case.\n",
    "\n",
    "We expect the simulation for the `cylinder_benchmark` example have been\n",
    "completed and that the resulting data is available in the `cylinder_benchmark`\n",
    "subdirectory of the results folder.\n",
    "\n",
    "The benchmarking consists of a few different sub-benchmarks:\n",
    "\n",
    "1. Inflection point detection.\n",
    "2. Backdraft region detection.\n",
    "3. Leakage detection.\n"
   ]
  },
  {
   "cell_type": "markdown",
   "metadata": {
    "slideshow": {
     "slide_type": "subslide"
    }
   },
   "source": [
    "![image](media/close_up.png)"
   ]
  },
  {
   "cell_type": "code",
   "execution_count": null,
   "metadata": {
    "slideshow": {
     "slide_type": "skip"
    }
   },
   "outputs": [],
   "source": [
    "# Assign flags for debugging to alter the behaviour of the program in addition\n",
    "# to the list of experiments to compare.\n",
    "\n",
    "debug = False\n",
    "root_folder = \"../../\"\n",
    "data_folder = \"results/hpc/cylinder_benchmark\"\n",
    "\n",
    "# Define the list of data files and the labels to give them\n",
    "experiments = [\n",
    "    \"meshed\",\n",
    "    \"explicit_b_100\",\n",
    "    \"explicit_b_200\",\n",
    "    \"explicit_b_400\",\n",
    "    \"explicit_b_800\",\n",
    "    \"explicit_b_1600\",\n",
    "    \"explicit_b_3200\",\n",
    "]\n",
    "labels = [\n",
    "    \"Baseline\",\n",
    "    \"Explicit 100\",\n",
    "    \"Explicit 200\",\n",
    "    \"Explicit 400\",\n",
    "    \"Explicit 800\",\n",
    "    \"Explicit 1600\",\n",
    "    \"Explicit 3200\",\n",
    "]"
   ]
  },
  {
   "cell_type": "code",
   "execution_count": null,
   "metadata": {
    "slideshow": {
     "slide_type": "skip"
    },
    "tags": []
   },
   "outputs": [],
   "source": [
    "# Setup the paths for the project and load the external modules\n",
    "\n",
    "# Load the external modules\n",
    "import sys\n",
    "import os\n",
    "\n",
    "try:\n",
    "    import import_ipynb\n",
    "    import numpy as np\n",
    "except:\n",
    "    print(\"import_ipynb not installed. Installing it now.\")\n",
    "    %pip install import_ipynb numpy\n",
    "    import import_ipynb\n",
    "    import numpy as np\n",
    "\n",
    "# Load internal modules\n",
    "try:\n",
    "    from nekotop import *\n",
    "except:\n",
    "    sys.path.append(root_folder + \"scripts/modules\")\n",
    "    from nekotop import *\n",
    "\n",
    "# If the data folder is not an absolute path, make it relative to the root\n",
    "if data_folder[0] != \"/\":\n",
    "    data_folder = os.path.realpath(os.path.join(root_folder, data_folder))\n",
    "\n",
    "# Check that the folder exists\n",
    "if not os.path.exists(data_folder):\n",
    "    raise FileNotFoundError(\n",
    "        \"The path to the results folder does not exist.\\n\"\n",
    "        \"Please run the benchmark first.\\n\"\n",
    "        \"\\tcd NEKO_TOP_ROOT\\n\"\n",
    "        \"\\t./setup.sh\\n\"\n",
    "        \"\\t./run.sh cylinder_benchmark\\n\"\n",
    "    )\n",
    "\n",
    "def no_data(ax):\n",
    "    ax.text(s=\"No data\",\n",
    "            x=0.5,\n",
    "            y=0.5,\n",
    "            fontsize=24,\n",
    "            color=\"red\",\n",
    "            transform=ax.transAxes,\n",
    "            ha=\"center\",\n",
    "            va=\"center\")\n",
    "\n",
    "figure_style_2d = {\n",
    "    \"facecolor\": [148.0 / 256.0, 163.0 / 256.0, 179.0 / 256.0, 0.5],\n",
    "    # \"constrained_layout\": True,\n",
    "}"
   ]
  },
  {
   "cell_type": "markdown",
   "metadata": {
    "slideshow": {
     "slide_type": "slide"
    }
   },
   "source": [
    "# Inflection point detection\n",
    "\n",
    "Separation points are detected by looking for inflection points in the flow\n",
    "field around the cylinder. The inflection points are detected by looking for\n",
    "zero crossings in the velocity component tangential to the cylinder surface.\n",
    "\n",
    "The angle of the separation point is then calculated by looking at the angle\n",
    "between the separation point and x axis. This angle provides a time series as\n",
    "vortices are build and shedd. These time series will be almost impossible to\n",
    "line up between the meshed cylinder and the immersed boundary cylinder, but the\n",
    "overall trend should be similar.\n",
    "\n",
    "We will be computing a number of statistical measures to compare.\n",
    "\n",
    "- The mean angle of the separation point, or the bias of the signal.\n",
    "- The amplitude of the signal.\n",
    "- The dominant frequency of the signal.\n",
    "- The Strouhal number for the flow.\n",
    "\n",
    "We expect to see the signal to be separated into 3 parts, the build up of the\n",
    "boundary layer, build-up of the vortex and the shedding of the vortex. All the\n",
    "measures are computed for the stable phase shedding of vortices.\n"
   ]
  },
  {
   "cell_type": "markdown",
   "metadata": {
    "slideshow": {
     "slide_type": "subslide"
    }
   },
   "source": [
    "## Python function\n",
    "\n",
    "The inflection benchmarking have been implemented in the inflection point\n",
    "detection [notebook](inflection_points.ipynb). The notebook contains the\n",
    "implementation of the inflection point detection and the statistical measures\n",
    "to compare the results. Additionally the notebook contain notes and comments on\n",
    "the implementation.\n",
    "\n",
    "The benchmark should be executed as follows:\n",
    "\n",
    "```python\n",
    "import import_ipynb\n",
    "from inflection_points import inflection_benchmark\n",
    "\n",
    "bench = inflection_benchmark(\"path/to/inflection.csv\")\n",
    "```\n",
    "\n",
    "The returned object `bench` is a dictionary containing the statistical measures\n",
    "of the inflection point detection. As well as the computed angles and\n",
    "timestamps.\n"
   ]
  },
  {
   "cell_type": "code",
   "execution_count": null,
   "metadata": {
    "slideshow": {
     "slide_type": "skip"
    }
   },
   "outputs": [],
   "source": [
    "# Import the inflection benchmark and run it for all the data files\n",
    "#\n",
    "# This cell will import and run the inflection point benchmarking for all the\n",
    "# data files in the folder. The benchmark will compare the data to the baseline\n",
    "# and produce a plot of the inflection points for each case.\n",
    "\n",
    "from inflection_points import inflection_benchmark\n",
    "\n",
    "# Run the benchmark\n",
    "if \"inflection\" not in locals() or debug:\n",
    "    inflection = [None for _ in range(len(experiments))]\n",
    "    inflection_labels = [None for _ in range(len(experiments))]\n",
    "    for i in range(len(experiments)):\n",
    "        file = os.path.join(data_folder, experiments[i], \"inflection.csv\")\n",
    "        try:\n",
    "            inflection[i] = inflection_benchmark(file)\n",
    "            inflection_labels[i] = labels[i]\n",
    "        except:\n",
    "            print(\"Failed to load: \", experiments[i])\n",
    "\n",
    "    # Remove the failed experiments\n",
    "    inflection_labels = [x for x in inflection_labels if x is not None]"
   ]
  },
  {
   "cell_type": "code",
   "execution_count": null,
   "metadata": {
    "slideshow": {
     "slide_type": "subslide"
    }
   },
   "outputs": [],
   "source": [
    "# Plot the inflection point angles for each case\n",
    "import matplotlib.pyplot as plt\n",
    "\n",
    "max_columns = 3\n",
    "\n",
    "rows = len(experiments) // max_columns + 1\n",
    "columns = min(len(experiments), max_columns)\n",
    "\n",
    "fig = plt.figure(figsize=(6 * columns, 5 * rows))\n",
    "fig.set(**figure_style_2d)\n",
    "\n",
    "gs = fig.add_gridspec(rows, columns, hspace=0, wspace=0)\n",
    "ax = gs.subplots(sharex=True, sharey=True)\n",
    "\n",
    "(x0, x1, y0, y1) = (float(\"inf\"), float(\"-inf\"), float(\"inf\"), float(\"-inf\"))\n",
    "\n",
    "for i in range(len(experiments)):\n",
    "    idx = (i // max_columns, i % max_columns)\n",
    "\n",
    "    # Plot the inflection angles\n",
    "    if inflection[i] is not None:\n",
    "        ax[idx].plot(inflection[i][\"times\"], inflection[i][\"angles\"])\n",
    "\n",
    "        # Add vertical lines to show the building and layer formation times\n",
    "        ax[idx].axvline(\n",
    "            inflection[i][\"times\"][inflection[i][\"i_building\"]],\n",
    "            color=\"red\",\n",
    "            linestyle=\"--\",\n",
    "            label=\"Vortex build-up time\",\n",
    "        )\n",
    "        ax[idx].axvline(\n",
    "            inflection[i][\"times\"][inflection[i][\"i_boundary\"]],\n",
    "            color=\"green\",\n",
    "            linestyle=\"--\",\n",
    "            label=\"Boundary formation time\",\n",
    "        )\n",
    "    else:\n",
    "        no_data(ax[idx])\n",
    "\n",
    "    ax[idx].set_title(labels[i], x=0.5, y=0.9, fontsize=16)\n",
    "    x0 = min(x0, ax[idx].axis()[0])\n",
    "    x1 = max(x1, ax[idx].axis()[1])\n",
    "    y0 = min(y0, ax[idx].axis()[2])\n",
    "    y1 = max(y1, ax[idx].axis()[3])\n",
    "\n",
    "for idx in np.ndindex(rows, columns):\n",
    "    ax[idx].grid(True, which=\"both\", linestyle=\"--\", linewidth=0.5)\n",
    "\n",
    "    ax[idx].axis([x0, x1, 1.1 * y0, 1.1 * y1])\n",
    "\n",
    "    if idx[0] == rows - 1:\n",
    "        ax[idx].set_xlabel(\"Time (s)\")\n",
    "    if idx[1] == 0:\n",
    "        ax[idx].set_ylabel(\"Angle (rad)\")"
   ]
  },
  {
   "cell_type": "code",
   "execution_count": null,
   "metadata": {
    "slideshow": {
     "slide_type": "skip"
    }
   },
   "outputs": [],
   "source": [
    "# Definition of a function used to plot a table of information based on the\n",
    "# inflection data\n",
    "\n",
    "\n",
    "def plot_table(data: np.ndarray, column_labels, row_labels, precision=3):\n",
    "    \"\"\"\n",
    "    Plot a table of data with the given column labels and row labels.\n",
    "\n",
    "    Parameters\n",
    "    ----------\n",
    "    data : np.ndarray\n",
    "        The data to plot in the table.\n",
    "    column_labels : list\n",
    "        The labels for the columns.\n",
    "    labels : list\n",
    "        The labels for the rows.\n",
    "    precision : int\n",
    "        The number of decimal places to display.\n",
    "    \"\"\"\n",
    "\n",
    "    # Preallocate the data text\n",
    "    data_text = [[\"\" for _ in range(len(column_labels))]\n",
    "                 for _ in range(len(row_labels))]\n",
    "\n",
    "    # Fill the data text with the values\n",
    "    for (i, j) in [(i, j) for i in range(len(row_labels))\n",
    "                   for j in range(len(column_labels))]:\n",
    "        data_text[i][j] = f\"{data[i,j]:.{precision}f}\"\n",
    "\n",
    "    fig, ax = plt.subplots(figsize=(len(column_labels) * 2.0,\n",
    "                                    len(row_labels) * 0.5))\n",
    "\n",
    "    fig.set(**figure_style_2d)\n",
    "\n",
    "    ax.axis(\"off\")\n",
    "    table = ax.table(\n",
    "        cellText=data_text,\n",
    "        colLabels=column_labels,\n",
    "        rowLabels=row_labels,\n",
    "        loc=\"center\",\n",
    "        cellLoc=\"center\",\n",
    "        colLoc=\"center\",\n",
    "        bbox=[0, 0, 1, 1],\n",
    "        edges=\"horizontal\",\n",
    "    )\n",
    "    table.auto_set_font_size(False)\n",
    "    table.set_fontsize(14)\n",
    "    table.scale(1, 1.5)"
   ]
  },
  {
   "cell_type": "markdown",
   "metadata": {
    "slideshow": {
     "slide_type": "subslide"
    }
   },
   "source": [
    "## Bias of the signal\n",
    "\n",
    "The bias of the signal is calculated as the mean angle of the separation point.\n",
    "An angle of 0 rad is aligned with the x-axis.\n",
    "In addition tto the bias for each inflection point, we also compute the mean\n",
    "difference from the meshed cylinder to the immersed boundary cylinder."
   ]
  },
  {
   "cell_type": "code",
   "execution_count": null,
   "metadata": {
    "slideshow": {
     "slide_type": "fragment"
    },
    "tags": [
     "no_input"
    ]
   },
   "outputs": [],
   "source": [
    "# Print the bias of the inflection points\n",
    "\n",
    "column_labels = [\"Top\", \"Center\", \"Bottom\", \"Mean difference\"]\n",
    "\n",
    "bias = np.asarray([i[\"bias\"] for i in inflection if i is not None])\n",
    "bias = np.concatenate(\n",
    "    (bias, np.mean(bias - bias[0, :], axis=1).reshape(-1, 1)), axis=1)\n",
    "\n",
    "plot_table(bias, column_labels, inflection_labels)"
   ]
  },
  {
   "cell_type": "markdown",
   "metadata": {
    "slideshow": {
     "slide_type": "subslide"
    }
   },
   "source": [
    "## Dominant frequencies"
   ]
  },
  {
   "cell_type": "code",
   "execution_count": null,
   "metadata": {},
   "outputs": [],
   "source": [
    "# Print the dominant frequency of the inflection points\n",
    "\n",
    "column_labels = [\"Top\", \"Center\", \"Bottom\", \"Mean difference\"]\n",
    "\n",
    "freq = np.asarray([i[\"max_freq\"] for i in inflection if i is not None])\n",
    "freq = np.concatenate(\n",
    "    (freq, np.mean(freq - freq[0, :], axis=1).reshape(-1, 1)), axis=1)\n",
    "\n",
    "plot_table(freq, column_labels, inflection_labels)"
   ]
  },
  {
   "cell_type": "markdown",
   "metadata": {
    "slideshow": {
     "slide_type": "subslide"
    }
   },
   "source": [
    "## Amplitude of the signal"
   ]
  },
  {
   "cell_type": "code",
   "execution_count": null,
   "metadata": {},
   "outputs": [],
   "source": [
    "# Print the amplitude of the inflection points movement\n",
    "\n",
    "column_labels = [\"Top\", \"Center\", \"Bottom\", \"Mean difference\"]\n",
    "\n",
    "amplitude = np.asarray([i[\"amplitude\"] for i in inflection if i is not None])\n",
    "amplitude = np.concatenate(\n",
    "    (amplitude, np.mean(amplitude - amplitude[0, :], axis=1).reshape(-1, 1)),\n",
    "    axis=1)\n",
    "\n",
    "plot_table(amplitude, column_labels, inflection_labels)"
   ]
  },
  {
   "cell_type": "code",
   "execution_count": null,
   "metadata": {
    "slideshow": {
     "slide_type": "subslide"
    }
   },
   "outputs": [],
   "source": [
    "# Print the Strouhal number for each case\n",
    "#\n",
    "# The Strouhal number is a dimensionless number that describes the oscillation\n",
    "# of a body in a fluid. It is defined as:\n",
    "#\n",
    "#     St = f * D / U\n",
    "#\n",
    "# where:\n",
    "#     f: frequency of oscillation\n",
    "#     D: diameter of the body\n",
    "#     U: ambient velocity of the fluid\n",
    "#\n",
    "# The Strouhal number is a useful number to compare the oscillation of bodies\n",
    "# of different sizes and in different fluids. It is also useful to compare the\n",
    "# oscillation of bodies in different flow regimes.\n",
    "#\n",
    "# We will compute the Strouhal number for each inflection point in each case and\n",
    "# print the mean value of the Strouhal number for each case.\n",
    "\n",
    "\n",
    "def compute_strouhal(frequencies, diameter, ambient_velocity):\n",
    "    return np.asarray([f * diameter / ambient_velocity for f in frequencies])\n",
    "\n",
    "\n",
    "strouhal = np.asarray([\n",
    "    compute_strouhal(i[\"max_freq\"], 1.0, 1.0).mean()\n",
    "    for i in inflection if i is not None])\n",
    "\n",
    "plot_table(strouhal.reshape(-1, 1), [\"Strouhal number\"], inflection_labels)"
   ]
  },
  {
   "cell_type": "markdown",
   "metadata": {
    "slideshow": {
     "slide_type": "subslide"
    }
   },
   "source": [
    "## Timing for the phases\n",
    "\n",
    "The flow goes through a few different phases during the simulation. First the\n",
    "boundary layers are formed, then the vortices are formed and finally the\n",
    "vortices are shed. In general only the shedding of the vortices are of interest\n",
    "for the Strouhal number. But for the immersed boundary method, the boundary\n",
    "layer formation do tell us something about the leakage."
   ]
  },
  {
   "cell_type": "code",
   "execution_count": null,
   "metadata": {},
   "outputs": [],
   "source": [
    "# Print the boundary layer building time\n",
    "\n",
    "column_labels = [\"Layer\", \"Build-up\"]\n",
    "\n",
    "times = np.asarray((\n",
    "    [i[\"times\"][i[\"i_boundary\"]] for i in inflection if i is not None],\n",
    "    [i[\"times\"][i[\"i_building\"]] for i in inflection if i is not None]\n",
    ")).transpose()\n",
    "\n",
    "plot_table(times, column_labels, inflection_labels)"
   ]
  },
  {
   "cell_type": "markdown",
   "metadata": {
    "slideshow": {
     "slide_type": "slide"
    }
   },
   "source": [
    "# Leakage detection\n",
    "\n",
    "The leakage detection is done by looking at the velocity component inside the\n",
    "cylinder. The velocity component should be zero inside the cylinder, but due to\n",
    "the immersed boundary method, there will be some leakage. The leakage is\n",
    "calculated as the mean velocity inside the cylinder.\n",
    "Additionally we also report the time wise standard deviation of the velocity, max \n",
    "and min velocity inside the cylinder."
   ]
  },
  {
   "cell_type": "code",
   "execution_count": null,
   "metadata": {
    "slideshow": {
     "slide_type": "skip"
    }
   },
   "outputs": [],
   "source": [
    "from leakage import leakage_benchmark\n",
    "\n",
    "# Run the benchmark\n",
    "if \"leakage\" not in locals() or debug:\n",
    "    leakage = [None for _ in range(len(experiments))]\n",
    "    leakage_labels = [None for _ in range(len(experiments))]\n",
    "    for i in range(0, len(experiments)):\n",
    "        file = os.path.join(data_folder, experiments[i], \"leakage.csv\")\n",
    "        try:\n",
    "            leakage[i] = leakage_benchmark(file)\n",
    "            leakage_labels[i] = labels[i]\n",
    "        except:\n",
    "            print(\"Failed to load: \", experiments[i])\n",
    "            pass"
   ]
  },
  {
   "cell_type": "code",
   "execution_count": null,
   "metadata": {
    "slideshow": {
     "slide_type": "subslide"
    }
   },
   "outputs": [],
   "source": [
    "# Draw the leakage plot\n",
    "\n",
    "max_columns = 3\n",
    "\n",
    "rows = len(experiments) // max_columns + 1\n",
    "columns = min(len(experiments), max_columns)\n",
    "\n",
    "fig = plt.figure(figsize=(6 * columns, 5 * rows))\n",
    "fig.set(**figure_style_2d)\n",
    "\n",
    "gs = fig.add_gridspec(rows, columns, hspace=0, wspace=0)\n",
    "ax = gs.subplots(sharex=True, sharey=True)\n",
    "\n",
    "# Ensure that ax is a list\n",
    "if not isinstance(ax, np.ndarray):\n",
    "    ax = np.asarray([[ax]])\n",
    "\n",
    "(x0, x1, y0, y1) = (float(\"inf\"), float(\"-inf\"), float(\"inf\"), float(\"-inf\"))\n",
    "\n",
    "for i in range(len(experiments)):\n",
    "    idx = (i // max_columns, i % max_columns)\n",
    "\n",
    "    # Plot the inflection angles\n",
    "    if leakage[i] is not None:\n",
    "        ax[idx].plot(leakage[i][\"times\"], leakage[i][\"mean\"], label=\"Mean\")\n",
    "        ax[idx].plot(leakage[i][\"times\"], leakage[i][\"max\"], label=\"Max\")\n",
    "        ax[idx].plot(leakage[i][\"times\"], leakage[i][\"min\"], label=\"Min\")\n",
    "    else:\n",
    "        no_data(ax[idx])\n",
    "\n",
    "    ax[idx].set_title(labels[i], x=0.5, y=0.9, fontsize=16)\n",
    "    ax[idx].set_yscale(\"log\")\n",
    "    ax[idx].grid(True, which=\"both\", linestyle=\"--\", linewidth=0.5)\n",
    "\n",
    "    x0 = min(x0, ax[idx].axis()[0])\n",
    "    x1 = max(x1, ax[idx].axis()[1])\n",
    "    y0 = min(y0, ax[idx].axis()[2])\n",
    "    y1 = max(y1, ax[idx].axis()[3])\n",
    "\n",
    "for idx in np.ndindex(rows, columns):\n",
    "\n",
    "    ax[idx].axis([x0, x1, 1.1 * y0, 1.1 * y1])\n",
    "\n",
    "    if idx[0] == rows - 1:\n",
    "        ax[idx].set_xlabel(\"Time (s)\")\n",
    "    if idx[1] == 0:\n",
    "        ax[idx].set_ylabel(\"Average velocity (m/s)\")"
   ]
  },
  {
   "cell_type": "code",
   "execution_count": null,
   "metadata": {
    "slideshow": {
     "slide_type": "subslide"
    }
   },
   "outputs": [],
   "source": [
    "# Plot the smallest maximum velocity for as a function of Brinkman number\n",
    "\n",
    "fig = plt.figure(figsize=(6, 5))\n",
    "fig.set(**figure_style_2d)\n",
    "\n",
    "ax = fig.add_subplot(111)\n",
    "\n",
    "# Compute the Brinkman number\n",
    "brinkman = []\n",
    "max_vel = []\n",
    "for i in range(len(experiments)):\n",
    "    if leakage[i] is None:\n",
    "        continue\n",
    "\n",
    "    id = experiments[i].find(\"b_\")\n",
    "    if id != -1:\n",
    "        brinkman_str = experiments[i][id+2:]\n",
    "        max_vel.append(leakage[i][\"max\"].min())\n",
    "        brinkman.append(float(brinkman_str))\n",
    "\n",
    "if len(brinkman) > 0:\n",
    "    ax.plot(brinkman, max_vel, marker=\"o\", linestyle=\"--\")\n",
    "else:\n",
    "    no_data(ax)\n",
    "\n",
    "ax.set_xlabel(\"Brinkman number\")\n",
    "ax.set_ylabel(\"Minimum maximum velocity (m/s)\")\n",
    "ax.set_title(\"Minimum maximum velocity as a function of Brinkman number\")\n",
    "ax.grid(True, which=\"both\", linestyle=\"--\", linewidth=0.5)"
   ]
  },
  {
   "cell_type": "markdown",
   "metadata": {
    "slideshow": {
     "slide_type": "slide"
    }
   },
   "source": [
    "# The end"
   ]
  },
  {
   "cell_type": "code",
   "execution_count": null,
   "metadata": {
    "vscode": {
     "languageId": "html"
    }
   },
   "outputs": [],
   "source": [
    "%%html\n",
    "\n",
    "<!-- Setup of the slide show style -->\n",
    "<style>\n",
    "    /* Set the background color for the exported HTML slide show */\n",
    "    .reveal {\n",
    "        background-image: url('./media/website-background-1.png');\n",
    "        background-size: cover;\n",
    "    }\n",
    "</style>"
   ]
  }
 ],
 "metadata": {
  "kernelspec": {
   "display_name": ".venv",
   "language": "python",
   "name": "python3"
  },
  "language_info": {
   "codemirror_mode": {
    "name": "ipython",
    "version": 3
   },
   "file_extension": ".py",
   "mimetype": "text/x-python",
   "name": "python",
   "nbconvert_exporter": "python",
   "pygments_lexer": "ipython3",
   "version": "3.10.12"
  }
 },
 "nbformat": 4,
 "nbformat_minor": 2
}
