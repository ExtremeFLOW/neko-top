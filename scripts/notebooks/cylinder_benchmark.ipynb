{
 "cells": [
  {
   "cell_type": "markdown",
   "metadata": {},
   "source": [
    "# Immersed Cylinder benchmarking\n",
    "\n",
    "\n",
    "\n",
    "This notebook will contain all the required scripts and commands to produce the\n",
    "benchmarking for the immersed cylinder case.\n",
    "\n",
    "We expect the simulation for the `cylinder_benchmark` example have been\n",
    "completed and that the resulting data is available in the `cylinder_benchmark`\n",
    "subdirectory of the results folder.\n",
    "\n",
    "![image](media/close_up.png)\n",
    "\n",
    "The benchmarking consists of a few different sub-benchmarks:\n",
    "\n",
    "1. Inflection point detection.\n",
    "2. Backdraft region detection.\n",
    "3. Leakage detection."
   ]
  },
  {
   "cell_type": "code",
   "execution_count": 1,
   "metadata": {},
   "outputs": [],
   "source": [
    "# Assign flags for debugging to alter the behaviour of the program\n",
    "debug = False\n",
    "root_folder = \"../../\"\n",
    "data_folder = \"results/cylinder_benchmark\""
   ]
  },
  {
   "cell_type": "code",
   "execution_count": 2,
   "metadata": {
    "tags": []
   },
   "outputs": [
    {
     "name": "stdout",
     "output_type": "stream",
     "text": [
      "Stored 'debug' (bool)\n",
      "Stored 'root_folder' (str)\n",
      "Stored 'data_folder' (str)\n"
     ]
    }
   ],
   "source": [
    "# Setup the paths for the project and load the external modules\n",
    "\n",
    "try:\n",
    "    import import_ipynb\n",
    "except:\n",
    "    print(\"import_ipynb not installed. Installing it now.\")\n",
    "    %pip install import_ipynb pickleshare\n",
    "    import import_ipynb\n",
    "\n",
    "# Load the external modules\n",
    "import sys\n",
    "import os\n",
    "\n",
    "# Load internal modules\n",
    "sys.path.append(root_folder + \"scripts/modules\")\n",
    "from nekotop import *\n",
    "\n",
    "if debug:\n",
    "    path_to_results_folder = root_folder + \"logs/cylinder_benchmark\"\n",
    "else:\n",
    "    path_to_results_folder = root_folder + \"results/cylinder_benchmark\"\n",
    "\n",
    "# Setup the paths for the project\n",
    "path = os.path.realpath(os.path.join(os.getcwd(), path_to_results_folder))\n",
    "\n",
    "# Check that the folder exists\n",
    "if not os.path.exists(path):\n",
    "    print(\"The path to the results folder does not exist.\")\n",
    "    print(\"Please run the benchmark first.\")\n",
    "    print(\"\\tcd NEKO_TOP_ROOT\")\n",
    "    print(\"\\t./setup.sh\")\n",
    "    print(\"\\t./run.sh cylinder_benchmark\")\n",
    "    exit(404)\n"
   ]
  },
  {
   "cell_type": "markdown",
   "metadata": {},
   "source": [
    "# Inflection point detection\n",
    "\n",
    "Please see the [inflection point detection notebook](inflection_points.ipynb)\n",
    "for more details. Here we just execute the script and show the results."
   ]
  },
  {
   "cell_type": "code",
   "execution_count": 3,
   "metadata": {},
   "outputs": [
    {
     "name": "stdout",
     "output_type": "stream",
     "text": [
      "importing Jupyter notebook from inflection_points.ipynb\n"
     ]
    }
   ],
   "source": [
    "# Run the inflection points notebook.\n",
    "from inflection_points import inflection_benchmark"
   ]
  },
  {
   "cell_type": "code",
   "execution_count": 4,
   "metadata": {},
   "outputs": [
    {
     "ename": "ValueError",
     "evalue": "The vortex building is not detected.",
     "output_type": "error",
     "traceback": [
      "\u001b[0;31m---------------------------------------------------------------------------\u001b[0m",
      "\u001b[0;31mValueError\u001b[0m                                Traceback (most recent call last)",
      "Cell \u001b[0;32mIn[4], line 2\u001b[0m\n\u001b[1;32m      1\u001b[0m \u001b[38;5;66;03m# Define the baseline\u001b[39;00m\n\u001b[0;32m----> 2\u001b[0m baseline \u001b[38;5;241m=\u001b[39m \u001b[43minflection_benchmark\u001b[49m\u001b[43m(\u001b[49m\u001b[43mos\u001b[49m\u001b[38;5;241;43m.\u001b[39;49m\u001b[43mpath\u001b[49m\u001b[38;5;241;43m.\u001b[39;49m\u001b[43mjoin\u001b[49m\u001b[43m(\u001b[49m\u001b[43mpath\u001b[49m\u001b[43m,\u001b[49m\u001b[43m \u001b[49m\u001b[38;5;124;43m\"\u001b[39;49m\u001b[38;5;124;43mmeshed/inflection.csv\u001b[39;49m\u001b[38;5;124;43m\"\u001b[39;49m\u001b[43m)\u001b[49m\u001b[43m)\u001b[49m\n\u001b[1;32m      4\u001b[0m \u001b[38;5;66;03m# Define the list of data files and the labels to give them\u001b[39;00m\n\u001b[1;32m      5\u001b[0m data_files \u001b[38;5;241m=\u001b[39m [\n\u001b[1;32m      6\u001b[0m     \u001b[38;5;124m\"\u001b[39m\u001b[38;5;124mexplicit/inflection.csv\u001b[39m\u001b[38;5;124m\"\u001b[39m,\n\u001b[1;32m      7\u001b[0m ]\n",
      "File \u001b[0;32m<string>:44\u001b[0m, in \u001b[0;36minflection_benchmark\u001b[0;34m(file_name)\u001b[0m\n",
      "File \u001b[0;32m<string>:53\u001b[0m, in \u001b[0;36mdetect_stable_regions\u001b[0;34m(angles, threshold)\u001b[0m\n",
      "\u001b[0;31mValueError\u001b[0m: The vortex building is not detected."
     ]
    }
   ],
   "source": [
    "# Define the baseline\n",
    "baseline = inflection_benchmark(os.path.join(path, \"meshed/inflection.csv\"))\n",
    "\n",
    "# Define the list of data files and the labels to give them\n",
    "data_files = [\n",
    "    \"explicit/inflection.csv\",\n",
    "]\n",
    "labels = [\n",
    "    \"Explicit\",\n",
    "]"
   ]
  },
  {
   "cell_type": "code",
   "execution_count": null,
   "metadata": {},
   "outputs": [],
   "source": [
    "# Plot the results\n",
    "import matplotlib.pyplot as plt\n",
    "\n",
    "fig, ax = plt.subplots(1, max(2, len(data_files)), figsize=(10, 5))\n",
    "(x0, x1, y0, y1) = (float(\"inf\"), -float(\"inf\"), float(\"inf\"), -float(\"inf\"))\n",
    "\n",
    "for i in range(len(data_files)):\n",
    "    bench = inflection_benchmark(os.path.join(path, data_files[i]))\n",
    "    ax[i].plot(bench[\"times\"], bench[\"angles\"])\n",
    "    ax[i].set_title(data_files[i])\n",
    "    ax[i].set_xlabel(\"Time (s)\")\n",
    "    ax[i].set_ylabel(\"Angle (degrees)\")\n",
    "\n",
    "    x0 = min(x0, ax[i].axis()[0])\n",
    "    x1 = max(x1, ax[i].axis()[1])\n",
    "    y0 = min(y0, ax[i].axis()[2])\n",
    "    y1 = max(y1, ax[i].axis()[3])\n",
    "\n",
    "for i in range(len(ax)):\n",
    "    ax[i].axis([x0, x1, y0, y1])"
   ]
  }
 ],
 "metadata": {
  "kernelspec": {
   "display_name": ".venv",
   "language": "python",
   "name": "python3"
  },
  "language_info": {
   "codemirror_mode": {
    "name": "ipython",
    "version": 3
   },
   "file_extension": ".py",
   "mimetype": "text/x-python",
   "name": "python",
   "nbconvert_exporter": "python",
   "pygments_lexer": "ipython3",
   "version": "3.10.12"
  }
 },
 "nbformat": 4,
 "nbformat_minor": 2
}
