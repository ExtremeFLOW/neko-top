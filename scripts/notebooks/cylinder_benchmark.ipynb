{
 "cells": [
  {
   "cell_type": "markdown",
   "metadata": {},
   "source": [
    "# Immersed Cylinder benchmarking\n",
    "\n",
    "\n",
    "\n",
    "This notebook will contain all the required scripts and commands to produce the\n",
    "benchmarking for the immersed cylinder case.\n",
    "\n",
    "We expect the simulation for the `cylinder_benchmark` example have been\n",
    "completed and that the resulting data is available in the `cylinder_benchmark`\n",
    "subdirectory of the results folder.\n",
    "\n",
    "![image](media/close_up.png)\n",
    "\n",
    "The benchmarking consists of a few different sub-benchmarks:\n",
    "\n",
    "1. Inflection point detection.\n",
    "2. Backdraft region detection.\n",
    "3. Leakage detection."
   ]
  },
  {
   "cell_type": "code",
   "execution_count": 1,
   "metadata": {},
   "outputs": [],
   "source": [
    "# Assign flags for debugging to alter the behaviour of the program\n",
    "debug = False\n",
    "root_folder = \"../../\""
   ]
  },
  {
   "cell_type": "code",
   "execution_count": 2,
   "metadata": {
    "tags": []
   },
   "outputs": [
    {
     "name": "stdout",
     "output_type": "stream",
     "text": [
      "Stored 'debug' (bool)\n",
      "Stored 'root_folder' (str)\n"
     ]
    }
   ],
   "source": [
    "# Setup the paths for the project and load the external modules\n",
    "\n",
    "# Assign debug to globals\n",
    "%store debug\n",
    "%store root_folder\n",
    "\n",
    "try:\n",
    "    import import_ipynb\n",
    "except:\n",
    "    print(\"import_ipynb not installed. Installing it now.\")\n",
    "    %pip install import_ipynb pickleshare\n",
    "    import import_ipynb\n",
    "\n",
    "# Load the external modules\n",
    "import sys\n",
    "import os\n",
    "\n",
    "# Load internal modules\n",
    "sys.path.append(root_folder + \"scripts/modules\")\n",
    "from nekotop import *\n",
    "\n",
    "if debug:\n",
    "    path_to_results_folder = root_folder + \"logs/cylinder_benchmark\"\n",
    "else:\n",
    "    path_to_results_folder = root_folder + \"results/cylinder_benchmark\"\n",
    "\n",
    "# Setup the paths for the project\n",
    "path = os.path.realpath(os.path.join(os.getcwd(), path_to_results_folder))\n",
    "\n",
    "# Check that the folder exists\n",
    "if not os.path.exists(path):\n",
    "    print(\"The path to the results folder does not exist.\")\n",
    "    print(\"Please run the benchmark first.\")\n",
    "    print(\"\\tcd NEKO_TOP_ROOT\")\n",
    "    print(\"\\t./setup.sh\")\n",
    "    print(\"\\t./run.sh cylinder_benchmark\")\n",
    "    exit(404)\n"
   ]
  },
  {
   "cell_type": "markdown",
   "metadata": {},
   "source": [
    "# Inflection point detection\n",
    "\n",
    "Please see the [inflection point detection\n",
    "notebook](inflection_point_detection.ipynb) for more details. Here we just\n",
    "execute the script and show the results."
   ]
  },
  {
   "cell_type": "code",
   "execution_count": 3,
   "metadata": {},
   "outputs": [
    {
     "name": "stdout",
     "output_type": "stream",
     "text": [
      "importing Jupyter notebook from inflection_points.ipynb\n"
     ]
    },
    {
     "ename": "NameError",
     "evalue": "name 'angles' is not defined",
     "output_type": "error",
     "traceback": [
      "\u001b[0;31m---------------------------------------------------------------------------\u001b[0m",
      "\u001b[0;31mNameError\u001b[0m                                 Traceback (most recent call last)",
      "Cell \u001b[0;32mIn[3], line 2\u001b[0m\n\u001b[1;32m      1\u001b[0m \u001b[38;5;66;03m# Run the inflection points notebook.\u001b[39;00m\n\u001b[0;32m----> 2\u001b[0m \u001b[38;5;28;01mimport\u001b[39;00m \u001b[38;5;21;01minflection_points\u001b[39;00m\n",
      "File \u001b[0;32m<frozen importlib._bootstrap>:1027\u001b[0m, in \u001b[0;36m_find_and_load\u001b[0;34m(name, import_)\u001b[0m\n",
      "File \u001b[0;32m<frozen importlib._bootstrap>:1006\u001b[0m, in \u001b[0;36m_find_and_load_unlocked\u001b[0;34m(name, import_)\u001b[0m\n",
      "File \u001b[0;32m<frozen importlib._bootstrap>:672\u001b[0m, in \u001b[0;36m_load_unlocked\u001b[0;34m(spec)\u001b[0m\n",
      "File \u001b[0;32m<frozen importlib._bootstrap>:632\u001b[0m, in \u001b[0;36m_load_backward_compatible\u001b[0;34m(spec)\u001b[0m\n",
      "File \u001b[0;32m~/Projects/neko-top/.venv/lib/python3.10/site-packages/import_ipynb.py:61\u001b[0m, in \u001b[0;36mNotebookLoader.load_module\u001b[0;34m(self, fullname)\u001b[0m\n\u001b[1;32m     59\u001b[0m         code \u001b[38;5;241m=\u001b[39m \u001b[38;5;28mself\u001b[39m\u001b[38;5;241m.\u001b[39mshell\u001b[38;5;241m.\u001b[39minput_transformer_manager\u001b[38;5;241m.\u001b[39mtransform_cell(cell\u001b[38;5;241m.\u001b[39msource)\n\u001b[1;32m     60\u001b[0m         \u001b[38;5;66;03m# run the code in themodule\u001b[39;00m\n\u001b[0;32m---> 61\u001b[0m         \u001b[43mexec\u001b[49m\u001b[43m(\u001b[49m\u001b[43mcode\u001b[49m\u001b[43m,\u001b[49m\u001b[43m \u001b[49m\u001b[43mmod\u001b[49m\u001b[38;5;241;43m.\u001b[39;49m\u001b[38;5;18;43m__dict__\u001b[39;49m\u001b[43m)\u001b[49m\n\u001b[1;32m     62\u001b[0m \u001b[38;5;28;01mfinally\u001b[39;00m:\n\u001b[1;32m     63\u001b[0m     \u001b[38;5;28mself\u001b[39m\u001b[38;5;241m.\u001b[39mshell\u001b[38;5;241m.\u001b[39muser_ns \u001b[38;5;241m=\u001b[39m save_user_ns\n",
      "File \u001b[0;32m<string>:7\u001b[0m\n",
      "\u001b[0;31mNameError\u001b[0m: name 'angles' is not defined"
     ]
    }
   ],
   "source": [
    "# Run the inflection points notebook.\n",
    "import inflection_points"
   ]
  }
 ],
 "metadata": {
  "kernelspec": {
   "display_name": ".venv",
   "language": "python",
   "name": "python3"
  },
  "language_info": {
   "codemirror_mode": {
    "name": "ipython",
    "version": 3
   },
   "file_extension": ".py",
   "mimetype": "text/x-python",
   "name": "python",
   "nbconvert_exporter": "python",
   "pygments_lexer": "ipython3",
   "version": "3.10.12"
  }
 },
 "nbformat": 4,
 "nbformat_minor": 2
}
