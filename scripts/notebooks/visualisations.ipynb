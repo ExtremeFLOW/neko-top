{
 "cells": [
  {
   "cell_type": "markdown",
   "metadata": {},
   "source": [
    "# Visualisation\n",
    "\n",
    "This notebook will provide a few key visualisations for the general use of\n",
    "Neko-Top. It relies heavily on paraview so that must be available. Please see\n",
    "the documentation for information [Paraview](../documentation/Paraview.md).\n"
   ]
  },
  {
   "cell_type": "code",
   "execution_count": 1,
   "metadata": {
    "tags": []
   },
   "outputs": [],
   "source": [
    "# =============================================================================\n",
    "# Setup the python environment\n",
    "\n",
    "# Import the paraview modules.\n",
    "try:\n",
    "    from paraview.simple import *\n",
    "except:\n",
    "    import sys\n",
    "\n",
    "    sys.path.append('/usr/local/lib/')\n",
    "    sys.path.append('/usr/local/lib/python3.10/site-packages/')\n",
    "\n",
    "    from paraview.simple import *\n",
    "\n",
    "# Import the pyplot modules.\n",
    "try:\n",
    "    import matplotlib.pyplot as plt\n",
    "    import matplotlib.image as mpimg\n",
    "    %matplotlib widget\n",
    "\n",
    "except:\n",
    "    %pip install matplotlib ipympl\n",
    "\n",
    "    import matplotlib.pyplot as plt\n",
    "    import matplotlib.image as mpimg\n",
    "    %matplotlib widget\n",
    "\n",
    "# Set the matplotlib background to be transparent\n",
    "plt.rcParams['figure.facecolor'] = 'none'\n",
    "\n"
   ]
  },
  {
   "cell_type": "code",
   "execution_count": 2,
   "metadata": {
    "vscode": {
     "languageId": "html"
    }
   },
   "outputs": [
    {
     "data": {
      "text/html": [
       "<style>\n",
       "   .cell-output-ipywidget-background {\n",
       "      background-color: transparent !important;\n",
       "   }\n",
       "\n",
       "   .jp-OutputArea-output {\n",
       "      background-color: transparent;\n",
       "   }\n",
       "</style>\n"
      ],
      "text/plain": [
       "<IPython.core.display.HTML object>"
      ]
     },
     "metadata": {},
     "output_type": "display_data"
    }
   ],
   "source": [
    "%%html\n",
    "<style>\n",
    "   .cell-output-ipywidget-background {\n",
    "      background-color: transparent !important;\n",
    "   }\n",
    "\n",
    "   .jp-OutputArea-output {\n",
    "      background-color: transparent;\n",
    "   }\n",
    "</style>"
   ]
  },
  {
   "cell_type": "code",
   "execution_count": 3,
   "metadata": {},
   "outputs": [],
   "source": [
    "try:\n",
    "    if STATE_LOADED:\n",
    "        pass\n",
    "except NameError:\n",
    "    LoadState(\"../../visualisation/debug_top.pvsm\")\n",
    "    STATE_LOADED = True\n",
    "\n",
    "# Determine the number of timesteps\n",
    "timesteps = GetAnimationScene().TimeKeeper.TimestepValues\n",
    "\n",
    "# Set the time to the last timestep\n",
    "GetAnimationScene().TimeKeeper.Time = timesteps[0]\n",
    "SaveScreenshot(\"debug_top_0.png\",\n",
    "               magnification=1,\n",
    "               quality=100,\n",
    "               view=GetActiveView(),\n",
    "               TransparentBackground=1)\n",
    "GetAnimationScene().TimeKeeper.Time = timesteps[len(timesteps) // 2]\n",
    "SaveScreenshot(\"debug_top_1.png\",\n",
    "               magnification=1,\n",
    "               quality=100,\n",
    "               view=GetActiveView(),\n",
    "               TransparentBackground=1)\n",
    "GetAnimationScene().TimeKeeper.Time = timesteps[-1]\n",
    "SaveScreenshot(\"debug_top_2.png\",\n",
    "               magnification=1,\n",
    "               quality=100,\n",
    "               view=GetActiveView(),\n",
    "               TransparentBackground=1)\n",
    "\n",
    "file_names = ['0', '1', '2']\n",
    "\n",
    "# create subplots instances\n",
    "fig, axes = plt.subplots(len(file_names), 1)\n",
    "for name, ax in zip(file_names, axes.ravel()):\n",
    "    image = mpimg.imread(f'debug_top_{name}.png')\n",
    "\n",
    "    # plot image into the subplot\n",
    "    ax.imshow(image[:, :, ::-1])\n",
    "    ax.axis('off')\n",
    "\n",
    "# show the figure\n",
    "plt.show()"
   ]
  },
  {
   "cell_type": "code",
   "execution_count": null,
   "metadata": {},
   "outputs": [],
   "source": []
  }
 ],
 "metadata": {
  "kernelspec": {
   "display_name": ".venv",
   "language": "python",
   "name": "python3"
  },
  "language_info": {
   "codemirror_mode": {
    "name": "ipython",
    "version": 3
   },
   "file_extension": ".py",
   "mimetype": "text/x-python",
   "name": "python",
   "nbconvert_exporter": "python",
   "pygments_lexer": "ipython3",
   "version": "3.10.12"
  }
 },
 "nbformat": 4,
 "nbformat_minor": 2
}
